{
 "cells": [
  {
   "cell_type": "markdown",
   "id": "0187803d",
   "metadata": {},
   "source": [
    "## DERMATOLOGIST CHATBOT"
   ]
  },
  {
   "cell_type": "markdown",
   "id": "9fd2bf7b",
   "metadata": {},
   "source": [
    "### About the dataset\n",
    "#### This dataset contains six different types of diseases which dermatologist treat.\n",
    "#### -- It contains information about Causes, treatment, symptoms, precautions, prevention,home remedies,and some basic information.\n",
    "#### If you have any problem related to acne, pimples,hairfall,itchy/redness/rough/dry skin,yellow/thick/white spot nails,scaly patches on skin,red solid bumps on nose/forehead/cheek/chin.You can consult here.\n",
    "#### 1.Acne\n",
    "#### 2.Eczema\n",
    "#### 3.Hairfall\n",
    "#### 4.Toenail fungus\\Nail fungus\n",
    "#### 5.Psoriasis\n",
    "#### 6.Rosacea\n"
   ]
  },
  {
   "cell_type": "markdown",
   "id": "ab58b085",
   "metadata": {},
   "source": [
    "## Train the chatbot"
   ]
  },
  {
   "cell_type": "code",
   "execution_count": 1,
   "id": "6c5cf319",
   "metadata": {},
   "outputs": [],
   "source": [
    "doc = {'hello hlo hi namaste good morning evening afternoon':'I am EVA, your Dermatologist to diagnose and treat a variety of skin conditions. \\n What would you like to discuss? \\n (Please choose from the given i.e skin problem,hair problem or nails problem)',\n",
    "      'I suffer from skin hair nail nails problem problems ':'May I know your gender? \\n (Please choose from the given i.e. Male or Female)',\n",
    "      'I am Male Female male female':'What is your age? \\n ( please choose from the given i.e. teenager or adult or Above 25)',\n",
    "      'I am  Teenager teenager Adult adult above Above 25 25+':'Can you please tell me your skin type?( Please choose from the given i.e.Dry skin,Oily skin,Combination skin)',\n",
    "      'my skin type is  Dry dry Oily oily Combination combination skin':'Which beauty treatment would you like to discuss, tell me your problem?',\n",
    "      'I have got acne pimples scars on my face forehead shoulders back chest':'You might be have acne. \\n Acne is a very common skin condition that causes pimples mostly on the face, forehead, chest, shoulders and upper back. There are a variety of causes including genetics, fluctuating hormone levels, stress, high humidity and using oily or greasy personal care products. Acne commonly affects teenagers but can occur at any age.',\n",
    "      'what are the cause Cause Causes causes of  acne pimple pimples':'There are a variety of causes including genetics, fluctuating hormone levels, stress, high humidity and using oily or greasy personal care products.\\n You can go through with this link for more information \\n https://my.clevelandclinic.org/health/diseases/12233-acne',\n",
    "       'what are the symptoms symptom Symptom Symptoms of acne pimple plmples':'Acne commonly appears on the face and shoulders. It may also occur on the trunk, arms, legs, and buttocks. Skin changes include:\\n 1.Crusting of skin bumps \\n 2.Papules (small red bumps)\\n 3.Pustules (small red bumps containing white or yellow pus)\\n 4.Scarring of the skin\\n 5.Whiteheads\\n 6.Blackheads',\n",
    "       'what are the treatment of acne how can i rid from acne solution ':'You can go through this link for treatment. \\n https://my.clevelandclinic.org/health/diseases/12233-acne#management-and-treatment',\n",
    "       'what are the precaution precautions of acne and how do i prevention prevent prevented from acne':'1.Wash your face daily with warm water and a mild facial cleanser.\\n 2.Routinely use moisturizer.\\n 3.You don’t have to stop using makeup, but try to use “non-comedogenic” products and remove makeup at the end of each day.\\n 4.Keep your hands away from your face.',\n",
    "      'does do you have any home remedies advice to get rid out of acne pimples':'You can go through with this link or if have more problem kindly visit near Dermatology clinic \\n https://www.healthline.com/nutrition/get-rid-of-pimples-fast',\n",
    "       'why do teenager teenage children get acne acnes pimple pimples':'One of the causes of acne is a surge in hormones called androgens (specifically testosterone), which both women and men produce. Those hormones tend to be at their peak during the teen years.',\n",
    "       'which food foods cause causes acne pimple pimples':'There is some evidence that skim milk, whey protein and diets high in sugar may cause acne breakouts, although this remains controversial.\\n If you want to know more,Go through with this link. \\n https://my.clevelandclinic.org/health/diseases/12233-acne',\n",
    "       'my skin got red itchy dryness dry rednes sred rough roughness on face  ':'If your skin is dry, itchy and red, you might have eczema (atopic dermatitis). It’s a common skin condition that isn’t contagious',\n",
    "      'what are the causes cause Causes Cause of eczema Eczema(atopic dermatitis)':'Eczema (atopic dermatitis) is caused by a combination of immune system activation, genetics, environmental triggers and stress.\\n You can go through this link.\\n https://my.clevelandclinic.org/health/diseases/9998-eczema',\n",
    "       'where does eczema most commonly occur symptom symptoms Symptoms Symptom of eczema Eczema':'Eczema can show up anywhere on your skin. In teens and adults, it’s typically found on your hands, neck, inner elbows, ankles, knees, feet and around your eyes.',\n",
    "       'How long does eczema (atopic dermatitis) last or go':'Eczema can be lifelong, but symptoms can be managed with at-home remedies, over-the-counter medications and prescribed medications.',\n",
    "      'Which what are the  treatment of eczema how should i use to get rid out of eczema Eczema':'Use a humidifier if dry air makes your skin dry.\\n 1.Moisturize your skin using a cream or ointment.\\n 2.Lotions don’t work as well. Apply several times a day, including after you bathe or shower. \\n 3.Use lukewarm water in the tub or shower instead of hot.\\n 4.Use mild soaps and other products that are free of perfumes, dyes and alcohol. Look for products labeled “fragrance free,” “hypoallergenic” and “for sensitive skin.”',\n",
    "      'Is there a cure solution for eczema (atopic dermatitis)?':'No. There are treatments, but no treatment can claim to eliminate the symptoms of dermatitis 100% of the time.',\n",
    "       'how do we prevent prevention porevented eczema Eczema and what are the precaution precautions of eczema Eczema':'Please go through this link for information. \\n https://my.clevelandclinic.org/health/diseases/9998-eczema#prevention',\n",
    "      'i have hairfall hair fall problem my hairline shows my hair got thin all over the head and baldness' : 'You might have hair fall issue. \\n It is typical to lose some hair every day as part of your hair is usual growth cycle.',\n",
    "       'what are the symptoms symptom Symptom Symptoms of hairfall hair fall hairloss Hair fall':'Basically it is normal to loose some hair everyday but this symptoms show then you may take care of it. \\n 1.Gradual thinning on top of head.\\n 2.Circular or patchy bald spots.\\n 3.Sudden loosening of hair.\\n 4.Full-body hair loss.\\n 5.Patches of scaling that spread over the scalp',\n",
    "       'what are the causes cause Causes Cause  hairfall hairloss hair loss fall lost':' Illness, hormonal changes, stress, aging and inherited conditions can interfere with your hair’s growth cycle. More hair falls out, but new strands don’t always grow back. \\n If you want to know more.Please go through this link \\n https://my.clevelandclinic.org/health/diseases/21753-hair-loss#symptoms-and-causes',\n",
    "      'How is hair loss fall diagnosed checked':'1.Ask about your family history, including if any relatives experienced hair loss and at what age.\\n 2.Look at your medical history.\\n 3.Order blood tests to measure thyroid function and iron levels.\\n 4.Examine your scalp for signs of infection.\\n 5.Take a scalp biopsy to check for skin disease.',\n",
    "      'what are the treatment treated for hair loss fall precautions of hairfall hairloss precautions':'Please go through this link. \\n https://www.mayoclinic.org/diseases-conditions/hair-loss/diagnosis-treatment/drc-20372932',\n",
    "       'what are the prevention of hair fall loss how do we prevent prevented hairfall hairloss':'1.Eat a healthy diet that includes enough calories, protein and iron.\\n 2.Find ways to cope with stress.\\n 3.Manage thyroid disease or other medical conditions that could result in hair loss.\\n 4.Avoid hairstyles that pull hair tightly.',\n",
    "      'what are the home remedies remedy for hair growth':'There are several home remedies but massaging your scalp daily helps you to grow your hairs.\\n You can go through this link. \\n https://www.healthline.com/health/regrow-hair-naturally',\n",
    "      'my nails got yellow thick yellowish it shows show white spot spots streaks':'You might have Toenail fungus. \\n Toenail fungus is a widespread fungal infection that affects the toenails. Less commonly, nail fungus infects the fingernails. Nail fungus is also called onychomycosis.',\n",
    "      'what are the causes cause Causes Cause Toenail toenail Toe nail fungus toe':'Dermatophytes are fungal microorganisms (too tiny to see with the naked eye). They feed off of keratin, a protein found in your fingernails and toenails. Keratin makes nails hard.\\n Please go through this link for more information. \\n https://my.clevelandclinic.org/health/diseases/11303-toenail-fungus',\n",
    "      'What are common ways way you can get toenail fungus':'1.Walking around the perimeters of swimming pools.\\n 2.Using a public locker room or shower.\\n 3.Walking barefoot in a public area.',\n",
    "      'Who is likely to get toenail fungus which people got this fungus':'1.Athlete’s foot.\\n 2.Diabetes.\\n 3.Hyperhidrosis (disorder that makes you sweat a lot).\\n 4.Nail injury.\\n 5.Poor blood circulation due to peripheral vascular disease.\\n 6.Psoriasis.\\n 7.Weakened immune system, such as from an autoimmune disorder or HIV.',\n",
    "      'how can i  Prevent prevent prevention Stop stop toenail fungus what are the precaution precautions of toe nail fungus':'There are some several things you keep in mind. You can check this link to know about prevention of Toenail fungus \\n https://my.clevelandclinic.org/health/diseases/11303-toenail-fungus#prevention',\n",
    "      'how long will i need treatment of toenail Toenail fungus':'You need proper care of it and take precautions and treatment for it.\\n You should go to the near Dermatology centre for proper care.',\n",
    "      'what are the symptom symptoms of toenail fungus toe nail Toenail fungus':'1.Thickened\\n 2.Whitish to yellow-brown discoloration\\n 3.Brittle, crumbly or ragged\\n 4.Distorted in shape',\n",
    "      'i have itchiness itchy discomfort and thick and scaly ptaches on skin ':'You might have Psoriasis.\\n Psoriasis is a chronic skin disorder, which means a skin condition that doesn’t go away. People with psoriasis have thick, pink or red patches of skin covered with white or silvery scales. The thick, scaly patches are called plaques.',\n",
    "      'What part parts of the body does psoriasis affect':'Psoriasis tends to affect the:\\n 1.Elbows and knees.\\n 2.Face, scalp and inside the mouth.\\n 3.Fingernails and toenails.\\n 4.Genitals.\\n 5.Lower back.\\n 6.Palms and feet.',\n",
    "      'Is psoriasis the same as eczema?':'Psoriasis and eczema are two different skin conditions. They differ in where the disease appears on the body, how much it itches and how it looks',\n",
    "      'what are the cause Cause Causes causes of Psoriasis psoriasis':'Psoriasis is an immune system problem. Your immune response overreacts, causing inflammation, which leads to new skin cells growing too fast.\\n You can go through this link for more information. \\n https://my.clevelandclinic.org/health/diseases/6866-psoriasis',\n",
    "      'What are the symptoms symptom of psoriasis Psoriasis Symptoms Symptoms':'1.Itchiness.\\n 2.Cracked, dry skin.\\n 3.Scaly scalp.\\n 4.Skin pain.\\n 5.Nails that are pitted, cracked or crumbly.\\n 6.Joint pain.',\n",
    "      'What psoriasis treatments are available treatment Treatment Treatments':'1.Steroid creams.\\n 2.Moisturizers for dry skin.\\n 3.Anthralin, a medication to slow skin cell production.\\n 4.Medicated lotions, shampoos and bath solutions to improve scalp psoriasis. Your provider may combine it with ultraviolet (UV) light therapy for severe cases.\\n 5.Vitamin D3 ointment.\\n 6.Vitamin A or retinoid creams.',\n",
    "      'how can i take care of myself from psoriasis what are the precaution precautions how do we Prevention prevent prevention Precautions of psoriasis Psoriasis':'1.Take medications as instructed.\\n 2.Use moisturizer regularly, especially after bathing.\\n 3.Avoid harsh soaps.\\n 4.Use medicated shampoo for scales on your scalp.',\n",
    "      'i have got red solid bump bumps redness on my nose, chin, cheeks cheek forehead':'You might have Rosacea. \\n Rosacea is a common disorder that most usually affects facial skin. It causes redness on the nose, chin, cheeks and forehead. Over time, the redness may become more intense, taking on a ruddy appearance. Small blood vessels may become visible.',\n",
    "      'what are the cause Cause Causes causes of rosacea Rosacea':'The cause of rosacea is unknown; However, theories suggest that the condition is caused by microscopic skin mites, fungus, psychological factors or a malfunction of the connective tissue under the skin.\\n You may go through this link for more information. \\n https://my.clevelandclinic.org/health/diseases/12174-rosacea-adult-acne',\n",
    "      'What are the symptoms symptom of rosacea Rosacea Symptoms Symptoms':'You can go through this link for symptoms of Rosacea. \\n https://my.clevelandclinic.org/health/diseases/12174-rosacea-adult-acne#symptoms-and-causes',\n",
    "      'What Rosacea rosacea treatments are available treatment Treatment Treatments':'Medicines and Surgical procedure can help.',\n",
    "      'how can i take care of myself in rosacea Rosacea precaution precautions Prevention prevent prevention Precautions of rosacea Rosacea':'Rosacea can be prevented through: \\n 1.Sun/wind exposure.\\n 2.Emotional stress Hot/cold weather.\\n 3.Heavy exercise.\\n 4.Alcohol consumption.\\n 5.Hot baths/beverages.'}"
   ]
  },
  {
   "cell_type": "markdown",
   "id": "bdda5a70",
   "metadata": {},
   "source": [
    "## Import the required libraries"
   ]
  },
  {
   "cell_type": "code",
   "execution_count": 2,
   "id": "7d7df6e7",
   "metadata": {},
   "outputs": [],
   "source": [
    "import math\n",
    "from collections import Counter\n",
    "from nltk import word_tokenize"
   ]
  },
  {
   "cell_type": "markdown",
   "id": "2e4d1dbf",
   "metadata": {},
   "source": [
    "## Change text into vector"
   ]
  },
  {
   "cell_type": "code",
   "execution_count": 3,
   "id": "e3113871",
   "metadata": {},
   "outputs": [],
   "source": [
    "def text_vec(text):\n",
    "    word = word_tokenize(text)        \n",
    "    return Counter(word)"
   ]
  },
  {
   "cell_type": "markdown",
   "id": "3040dd09",
   "metadata": {},
   "source": [
    "## Here I use cosine similarity to check the similarity between two statement.\n",
    "### --Cosine similarity is a technique which is use to find the similarity between two statements or vectors."
   ]
  },
  {
   "cell_type": "code",
   "execution_count": 4,
   "id": "87021dda",
   "metadata": {},
   "outputs": [],
   "source": [
    "#import numPy library\n",
    "import numpy as np\n",
    "\n",
    "def cos_sim(text1,text2):\n",
    "    #convert text into vector\n",
    "    vec1=text_vec(text1)\n",
    "    vec2=text_vec(text2)\n",
    "    \n",
    "    #Find the similar index\n",
    "    com = set(vec1.keys()) & set(vec2.keys())\n",
    "    #find the numerator of two vectors\n",
    "    nume = sum(vec1[i]*vec2[i] for i in com)\n",
    "\n",
    "    #find the denominator of both vectors\n",
    "    deno1 = sum(vec1[i]**2 for i in vec1.keys())\n",
    "    deno2 = sum(vec2[i]**2 for i in vec2.keys())\n",
    "    \n",
    "    deno = math.sqrt(deno1)*math.sqrt(deno2)\n",
    "\n",
    "   #check the cosine similarity \n",
    "    cosine = nume/deno\n",
    "    return cosine"
   ]
  },
  {
   "cell_type": "code",
   "execution_count": null,
   "id": "556d935d",
   "metadata": {},
   "outputs": [
    {
     "name": "stdout",
     "output_type": "stream",
     "text": [
      "Chatbot: hello welcome to skin care clinic.\n",
      "User: hello\n",
      "Chatbot:  I am EVA, your Dermatologist to diagnose and treat a variety of skin conditions. \n",
      " What would you like to discuss? \n",
      " (Please choose from the given i.e skin problem,hair problem or nails problem)\n"
     ]
    }
   ],
   "source": [
    "#Here I check the similarity betwwen the user's text or document's keys\n",
    "print('Chatbot: hello welcome to skin care clinic.')\n",
    "while True:\n",
    "    user = input('User: ')\n",
    "    if user.lower() not in ['bye','exit','thank you']:\n",
    "\n",
    "        li=[]\n",
    "        for i in doc.keys():\n",
    "            simi = cos_sim(i,user)\n",
    "            li.append(simi)\n",
    "        ind = li.index(max(li))\n",
    "        ans = list(doc.values())\n",
    "        print('Chatbot: ',ans[ind])\n",
    "    else:\n",
    "        break"
   ]
  },
  {
   "cell_type": "code",
   "execution_count": null,
   "id": "d8007074",
   "metadata": {},
   "outputs": [],
   "source": []
  },
  {
   "cell_type": "code",
   "execution_count": null,
   "id": "739a2650",
   "metadata": {},
   "outputs": [],
   "source": [
    "\n"
   ]
  }
 ],
 "metadata": {
  "kernelspec": {
   "display_name": "Python 3 (ipykernel)",
   "language": "python",
   "name": "python3"
  },
  "language_info": {
   "codemirror_mode": {
    "name": "ipython",
    "version": 3
   },
   "file_extension": ".py",
   "mimetype": "text/x-python",
   "name": "python",
   "nbconvert_exporter": "python",
   "pygments_lexer": "ipython3",
   "version": "3.9.7"
  }
 },
 "nbformat": 4,
 "nbformat_minor": 5
}
